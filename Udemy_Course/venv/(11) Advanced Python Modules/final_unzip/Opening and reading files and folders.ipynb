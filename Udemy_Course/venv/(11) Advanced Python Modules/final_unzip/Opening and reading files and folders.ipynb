{
 "cells": [
  {
   "cell_type": "code",
   "execution_count": 2,
   "metadata": {},
   "outputs": [
    {
     "data": {
      "text/plain": [
       "'C:\\\\Users\\\\jackg\\\\PycharmProjects\\\\Python\\\\PythonWork\\\\Udemy_Course\\\\venv\\\\(11) Advanced Python Modules'"
      ]
     },
     "execution_count": 2,
     "metadata": {},
     "output_type": "execute_result"
    }
   ],
   "source": [
    "pwd # reports back working directory you are in"
   ]
  },
  {
   "cell_type": "code",
   "execution_count": 4,
   "metadata": {},
   "outputs": [],
   "source": [
    "f = open('practice.txt', 'w+')\n",
    "f.write('This is a test string')\n",
    "f.close()"
   ]
  },
  {
   "cell_type": "code",
   "execution_count": 5,
   "metadata": {},
   "outputs": [],
   "source": [
    "import os"
   ]
  },
  {
   "cell_type": "code",
   "execution_count": 6,
   "metadata": {},
   "outputs": [
    {
     "data": {
      "text/plain": [
       "'C:\\\\Users\\\\jackg\\\\PycharmProjects\\\\Python\\\\PythonWork\\\\Udemy_Course\\\\venv\\\\(11) Advanced Python Modules'"
      ]
     },
     "execution_count": 6,
     "metadata": {},
     "output_type": "execute_result"
    }
   ],
   "source": [
    "os.getcwd()"
   ]
  },
  {
   "cell_type": "code",
   "execution_count": 7,
   "metadata": {},
   "outputs": [
    {
     "data": {
      "text/plain": [
       "['.ipynb_checkpoints',\n",
       " 'Collections.ipynb',\n",
       " 'Opening and reading files and folders.ipynb',\n",
       " 'practice.txt']"
      ]
     },
     "execution_count": 7,
     "metadata": {},
     "output_type": "execute_result"
    }
   ],
   "source": [
    "os.listdir()"
   ]
  },
  {
   "cell_type": "code",
   "execution_count": 9,
   "metadata": {},
   "outputs": [
    {
     "data": {
      "text/plain": [
       "['.anaconda',\n",
       " '.AndroidStudio3.5',\n",
       " '.AndroidStudio3.6',\n",
       " '.atom',\n",
       " '.bash_history',\n",
       " '.bundle',\n",
       " '.conda',\n",
       " '.condarc',\n",
       " '.config',\n",
       " '.csslintrc',\n",
       " '.dotnet',\n",
       " '.eclipse',\n",
       " '.emulator_console_auth_token',\n",
       " '.FEffectStoreExe',\n",
       " '.gem',\n",
       " '.git',\n",
       " '.gitconfig',\n",
       " '.gitignore',\n",
       " '.gradle',\n",
       " '.idea',\n",
       " '.IdeaIC2019.3',\n",
       " '.ipython',\n",
       " '.irbrc',\n",
       " '.irb_history',\n",
       " '.jupyter',\n",
       " '.m2',\n",
       " '.matplotlib',\n",
       " '.nbi',\n",
       " '.nuget',\n",
       " '.p2',\n",
       " '.pgAdmin4.1057243102.addr',\n",
       " '.pgAdmin4.1057243102.log',\n",
       " '.pgAdmin4.startup.log',\n",
       " '.pylint.d',\n",
       " '.python_history',\n",
       " '.QtWebEngineProcess',\n",
       " '.solargraph',\n",
       " '.spyder-py3',\n",
       " '.ssh',\n",
       " '.templateengine',\n",
       " '.tooling',\n",
       " '.VirtualBox',\n",
       " '.Wondershare Filmora9',\n",
       " '3D Objects',\n",
       " 'anaconda3',\n",
       " 'AndroidStudioProjects',\n",
       " 'AppData',\n",
       " 'Application Data',\n",
       " 'coffeelint.json',\n",
       " 'Contacts',\n",
       " 'Cookies',\n",
       " 'Creative Cloud Files',\n",
       " 'Desktop',\n",
       " 'Documents',\n",
       " 'Downloads',\n",
       " 'eclipse',\n",
       " 'eclipse-workspace',\n",
       " 'Favorites',\n",
       " 'HP',\n",
       " 'IdeaProjects',\n",
       " 'IntelGraphicsProfiles',\n",
       " 'jackgallaher72@gmail.com Creative Cloud Files',\n",
       " 'Links',\n",
       " 'Local Settings',\n",
       " 'MicrosoftEdgeBackups',\n",
       " 'Music',\n",
       " 'My Documents',\n",
       " 'NetHood',\n",
       " 'NTUSER.DAT',\n",
       " 'ntuser.dat.LOG1',\n",
       " 'ntuser.dat.LOG2',\n",
       " 'NTUSER.DAT{0a83d7ff-8985-11eb-b23a-cf4ce162f727}.TM.blf',\n",
       " 'NTUSER.DAT{0a83d7ff-8985-11eb-b23a-cf4ce162f727}.TMContainer00000000000000000001.regtrans-ms',\n",
       " 'NTUSER.DAT{0a83d7ff-8985-11eb-b23a-cf4ce162f727}.TMContainer00000000000000000002.regtrans-ms',\n",
       " 'ntuser.ini',\n",
       " 'OneDrive',\n",
       " 'Pictures',\n",
       " 'PrintHood',\n",
       " 'PycharmProjects',\n",
       " 'Recent',\n",
       " 'Saved Games',\n",
       " 'Searches',\n",
       " 'SendTo',\n",
       " 'source',\n",
       " 'Start Menu',\n",
       " 'Templates',\n",
       " 'Videos',\n",
       " 'VirtualBox VMs',\n",
       " '_netrc']"
      ]
     },
     "execution_count": 9,
     "metadata": {},
     "output_type": "execute_result"
    }
   ],
   "source": [
    "os.listdir('C:\\\\Users\\\\jackg')"
   ]
  },
  {
   "cell_type": "code",
   "execution_count": 10,
   "metadata": {},
   "outputs": [],
   "source": [
    "import shutil # moves to different locations"
   ]
  },
  {
   "cell_type": "code",
   "execution_count": 11,
   "metadata": {},
   "outputs": [
    {
     "data": {
      "text/plain": [
       "'C:\\\\Users\\\\jackg\\\\practice.txt'"
      ]
     },
     "execution_count": 11,
     "metadata": {},
     "output_type": "execute_result"
    }
   ],
   "source": [
    "shutil.move('practice.txt', 'C:\\\\Users\\\\jackg')"
   ]
  },
  {
   "cell_type": "code",
   "execution_count": 14,
   "metadata": {},
   "outputs": [
    {
     "data": {
      "text/plain": [
       "['.anaconda',\n",
       " '.AndroidStudio3.5',\n",
       " '.AndroidStudio3.6',\n",
       " '.atom',\n",
       " '.bash_history',\n",
       " '.bundle',\n",
       " '.conda',\n",
       " '.condarc',\n",
       " '.config',\n",
       " '.csslintrc',\n",
       " '.dotnet',\n",
       " '.eclipse',\n",
       " '.emulator_console_auth_token',\n",
       " '.FEffectStoreExe',\n",
       " '.gem',\n",
       " '.git',\n",
       " '.gitconfig',\n",
       " '.gitignore',\n",
       " '.gradle',\n",
       " '.idea',\n",
       " '.IdeaIC2019.3',\n",
       " '.ipython',\n",
       " '.irbrc',\n",
       " '.irb_history',\n",
       " '.jupyter',\n",
       " '.m2',\n",
       " '.matplotlib',\n",
       " '.nbi',\n",
       " '.nuget',\n",
       " '.p2',\n",
       " '.pgAdmin4.1057243102.addr',\n",
       " '.pgAdmin4.1057243102.log',\n",
       " '.pgAdmin4.startup.log',\n",
       " '.pylint.d',\n",
       " '.python_history',\n",
       " '.QtWebEngineProcess',\n",
       " '.solargraph',\n",
       " '.spyder-py3',\n",
       " '.ssh',\n",
       " '.templateengine',\n",
       " '.tooling',\n",
       " '.VirtualBox',\n",
       " '.Wondershare Filmora9',\n",
       " '3D Objects',\n",
       " 'anaconda3',\n",
       " 'AndroidStudioProjects',\n",
       " 'AppData',\n",
       " 'Application Data',\n",
       " 'coffeelint.json',\n",
       " 'Contacts',\n",
       " 'Cookies',\n",
       " 'Creative Cloud Files',\n",
       " 'Desktop',\n",
       " 'Documents',\n",
       " 'Downloads',\n",
       " 'eclipse',\n",
       " 'eclipse-workspace',\n",
       " 'Favorites',\n",
       " 'HP',\n",
       " 'IdeaProjects',\n",
       " 'IntelGraphicsProfiles',\n",
       " 'jackgallaher72@gmail.com Creative Cloud Files',\n",
       " 'Links',\n",
       " 'Local Settings',\n",
       " 'MicrosoftEdgeBackups',\n",
       " 'Music',\n",
       " 'My Documents',\n",
       " 'NetHood',\n",
       " 'NTUSER.DAT',\n",
       " 'ntuser.dat.LOG1',\n",
       " 'ntuser.dat.LOG2',\n",
       " 'NTUSER.DAT{0a83d7ff-8985-11eb-b23a-cf4ce162f727}.TM.blf',\n",
       " 'NTUSER.DAT{0a83d7ff-8985-11eb-b23a-cf4ce162f727}.TMContainer00000000000000000001.regtrans-ms',\n",
       " 'NTUSER.DAT{0a83d7ff-8985-11eb-b23a-cf4ce162f727}.TMContainer00000000000000000002.regtrans-ms',\n",
       " 'ntuser.ini',\n",
       " 'OneDrive',\n",
       " 'Pictures',\n",
       " 'practice.txt',\n",
       " 'PrintHood',\n",
       " 'PycharmProjects',\n",
       " 'Recent',\n",
       " 'Saved Games',\n",
       " 'Searches',\n",
       " 'SendTo',\n",
       " 'source',\n",
       " 'Start Menu',\n",
       " 'Templates',\n",
       " 'Videos',\n",
       " 'VirtualBox VMs',\n",
       " '_netrc']"
      ]
     },
     "execution_count": 14,
     "metadata": {},
     "output_type": "execute_result"
    }
   ],
   "source": [
    "os.listdir('C:\\\\Users\\\\jackg')"
   ]
  },
  {
   "cell_type": "code",
   "execution_count": 15,
   "metadata": {},
   "outputs": [],
   "source": [
    "import send2trash"
   ]
  },
  {
   "cell_type": "code",
   "execution_count": 16,
   "metadata": {},
   "outputs": [
    {
     "data": {
      "text/plain": [
       "['.ipynb_checkpoints',\n",
       " 'Collections.ipynb',\n",
       " 'Opening and reading files and folders.ipynb']"
      ]
     },
     "execution_count": 16,
     "metadata": {},
     "output_type": "execute_result"
    }
   ],
   "source": [
    "os.listdir()"
   ]
  },
  {
   "cell_type": "code",
   "execution_count": 17,
   "metadata": {},
   "outputs": [
    {
     "data": {
      "text/plain": [
       "'C:\\\\Users\\\\jackg\\\\PycharmProjects\\\\Python\\\\PythonWork\\\\Udemy_Course\\\\venv\\\\(11) Advanced Python Modules\\\\practice.txt'"
      ]
     },
     "execution_count": 17,
     "metadata": {},
     "output_type": "execute_result"
    }
   ],
   "source": [
    "shutil.move('C:\\\\Users\\\\jackg\\\\practice.txt', 'C:\\\\Users\\\\jackg\\\\PycharmProjects\\\\Python\\\\PythonWork\\\\Udemy_Course\\\\venv\\\\(11) Advanced Python Modules')"
   ]
  },
  {
   "cell_type": "code",
   "execution_count": 18,
   "metadata": {},
   "outputs": [
    {
     "data": {
      "text/plain": [
       "['.ipynb_checkpoints',\n",
       " 'Collections.ipynb',\n",
       " 'Opening and reading files and folders.ipynb',\n",
       " 'practice.txt']"
      ]
     },
     "execution_count": 18,
     "metadata": {},
     "output_type": "execute_result"
    }
   ],
   "source": [
    "os.listdir()"
   ]
  },
  {
   "cell_type": "code",
   "execution_count": 19,
   "metadata": {},
   "outputs": [],
   "source": [
    "send2trash.send2trash('practice.txt')"
   ]
  },
  {
   "cell_type": "code",
   "execution_count": 21,
   "metadata": {},
   "outputs": [],
   "source": [
    "file_path = 'C:\\\\Users\\\\jackg\\PycharmProjects\\\\Complete-Python-3-Bootcamp-master\\\\12-Advanced Python Modules\\\\Example_Top_Level'"
   ]
  },
  {
   "cell_type": "code",
   "execution_count": 23,
   "metadata": {},
   "outputs": [
    {
     "name": "stdout",
     "output_type": "stream",
     "text": [
      "Currently looking at C:\\Users\\jackg\\PycharmProjects\\Complete-Python-3-Bootcamp-master\\12-Advanced Python Modules\\Example_Top_Level\n",
      "\n",
      "\n",
      "The subfolders are: \n",
      "Subfolders: Mid-Example-One\n",
      "\n",
      "\n",
      "the files are : \n",
      "files: Mid-Example.txt\n",
      "\n",
      "\n",
      "Currently looking at C:\\Users\\jackg\\PycharmProjects\\Complete-Python-3-Bootcamp-master\\12-Advanced Python Modules\\Example_Top_Level\\Mid-Example-One\n",
      "\n",
      "\n",
      "The subfolders are: \n",
      "Subfolders: Bottom-Level-One\n",
      "Subfolders: Bottom-Level-Two\n",
      "\n",
      "\n",
      "the files are : \n",
      "files: Mid-Level-Doc.txt\n",
      "\n",
      "\n",
      "Currently looking at C:\\Users\\jackg\\PycharmProjects\\Complete-Python-3-Bootcamp-master\\12-Advanced Python Modules\\Example_Top_Level\\Mid-Example-One\\Bottom-Level-One\n",
      "\n",
      "\n",
      "The subfolders are: \n",
      "\n",
      "\n",
      "the files are : \n",
      "files: One_Text.txt\n",
      "\n",
      "\n",
      "Currently looking at C:\\Users\\jackg\\PycharmProjects\\Complete-Python-3-Bootcamp-master\\12-Advanced Python Modules\\Example_Top_Level\\Mid-Example-One\\Bottom-Level-Two\n",
      "\n",
      "\n",
      "The subfolders are: \n",
      "\n",
      "\n",
      "the files are : \n",
      "files: Bottom-Text-Two.txt\n",
      "\n",
      "\n"
     ]
    }
   ],
   "source": [
    "for folder, sub_folders, files in os.walk(file_path):\n",
    "    \n",
    "    print(f\"Currently looking at {folder}\")\n",
    "    print('\\n')\n",
    "    print('The subfolders are: ')\n",
    "    for sub_fold in sub_folders:\n",
    "        print(f\"Subfolders: {sub_fold}\")\n",
    "        \n",
    "    print('\\n')\n",
    "    print(\"the files are : \")\n",
    "    for f in files:\n",
    "        print(f\"files: {f}\")\n",
    "    print('\\n')"
   ]
  },
  {
   "cell_type": "code",
   "execution_count": null,
   "metadata": {},
   "outputs": [],
   "source": []
  }
 ],
 "metadata": {
  "kernelspec": {
   "display_name": "Python 3",
   "language": "python",
   "name": "python3"
  },
  "language_info": {
   "codemirror_mode": {
    "name": "ipython",
    "version": 3
   },
   "file_extension": ".py",
   "mimetype": "text/x-python",
   "name": "python",
   "nbconvert_exporter": "python",
   "pygments_lexer": "ipython3",
   "version": "3.8.3"
  }
 },
 "nbformat": 4,
 "nbformat_minor": 4
}
